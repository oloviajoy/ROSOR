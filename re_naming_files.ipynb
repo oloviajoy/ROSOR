{
 "cells": [
  {
   "cell_type": "code",
   "execution_count": 18,
   "id": "586e4888-a038-4376-9cd3-21b5e2cd4c55",
   "metadata": {},
   "outputs": [
    {
     "name": "stdout",
     "output_type": "stream",
     "text": [
      "Renaming complete.\n"
     ]
    }
   ],
   "source": [
    "import os\n",
    "\n",
    "# Set the directory containing the files\n",
    "folder_path = r\"D:\\Deliverables\\Aurora ground pointcloud tiles again\"# Change this to your actual folder path\n",
    "\n",
    "# Loop through files in the folder\n",
    "for filename in os.listdir(folder_path):\n",
    "    if filename.endswith(\".laz\"):  # Check if the file is a .tiff\n",
    "        new_filename = f\"White_Earth_surface_pointcloud_Tile_{filename}\"\n",
    "        old_path = os.path.join(folder_path, filename)\n",
    "        new_path = os.path.join(folder_path, new_filename)\n",
    "        \n",
    "        os.rename(old_path, new_path)  # Rename the file\n",
    "\n",
    "print(\"Renaming complete.\")\n"
   ]
  },
  {
   "cell_type": "code",
   "execution_count": 2,
   "id": "93c56a11-f30e-4297-a9af-546ce96d2e67",
   "metadata": {},
   "outputs": [
    {
     "name": "stdout",
     "output_type": "stream",
     "text": [
      "Correction complete.\n"
     ]
    }
   ],
   "source": [
    "import os\n",
    "\n",
    "# Set the directory containing the files\n",
    "folder_path = r\"C:\\Users\\olivi\\Desktop\\Aurora- fixing cliffs pt.2\\W_cliff_combined\\0.8 offset tiles\\Fixing_noise\\Fixing_noise_offset\\NEW TILES\"# Change this to your actual folder path\n",
    "\n",
    "# Loop through files in the folder\n",
    "for filename in os.listdir(folder_path):\n",
    "    if filename.endswith(\".laz\") and \"Convert to Las\" in filename:\n",
    "        new_filename = filename.replace(\"Convert to Las\", \"Aurora_ground_pointcloud\")\n",
    "        old_path = os.path.join(folder_path, filename)\n",
    "        new_path = os.path.join(folder_path, new_filename)\n",
    "        \n",
    "        os.rename(old_path, new_path)  # Rename the file\n",
    "\n",
    "print(\"Correction complete.\")\n"
   ]
  },
  {
   "cell_type": "code",
   "execution_count": 4,
   "id": "096df291-7d97-4d80-8458-e3d4f7b1a8fb",
   "metadata": {},
   "outputs": [
    {
     "name": "stdout",
     "output_type": "stream",
     "text": [
      "Correction complete.\n"
     ]
    }
   ],
   "source": [
    "import os\n",
    "\n",
    "# Set the directory containing the files\n",
    "folder_path = r\"C:\\Users\\olivi\\Desktop\\Aurora data processing\\DELIVERABLES\\DEM interpolated tiles\" # Change this to your actual folder path\n",
    "\n",
    "# Loop through files in the folder\n",
    "for filename in os.listdir(folder_path):\n",
    "    if filename.endswith(\".tiff\") and \"Hillshade\" in filename:\n",
    "        new_filename = filename.replace(\"Aurora_Hillshade_\", \"Aurora_DEM_\")\n",
    "        old_path = os.path.join(folder_path, filename)\n",
    "        new_path = os.path.join(folder_path, new_filename)\n",
    "        \n",
    "        os.rename(old_path, new_path)  # Rename the file\n",
    "\n",
    "print(\"Correction complete.\")"
   ]
  },
  {
   "cell_type": "code",
   "execution_count": null,
   "id": "0858604b-5feb-48cc-bbdc-49f8ba1f7952",
   "metadata": {},
   "outputs": [],
   "source": []
  }
 ],
 "metadata": {
  "kernelspec": {
   "display_name": "Python 3 (ipykernel)",
   "language": "python",
   "name": "python3"
  },
  "language_info": {
   "codemirror_mode": {
    "name": "ipython",
    "version": 3
   },
   "file_extension": ".py",
   "mimetype": "text/x-python",
   "name": "python",
   "nbconvert_exporter": "python",
   "pygments_lexer": "ipython3",
   "version": "3.11.7"
  }
 },
 "nbformat": 4,
 "nbformat_minor": 5
}
