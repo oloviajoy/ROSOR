{
 "cells": [
  {
   "cell_type": "code",
   "execution_count": 14,
   "id": "cb4c72cc-82fc-4c94-bdad-986205acd7ae",
   "metadata": {},
   "outputs": [
    {
     "name": "stdout",
     "output_type": "stream",
     "text": [
      "The DataFrame of matching files has been exported to C:\\Users\\olivi\\Desktop\\PhaseOne IXM-100 photos\\Corvet_sample_data_pof\\matching_file_list.csv.\n",
      "Matching files have been copied to C:\\Users\\olivi\\Desktop\\PhaseOne IXM-100 photos\\Corvet_sample_data_pof.\n"
     ]
    }
   ],
   "source": [
    "import os\n",
    "import shutil\n",
    "import pandas as pd\n",
    "\n",
    "# Specify the folder locations\n",
    "input_folder = r\"E:\\LM2403-66 Dahrouge EGNC\\RAW DATA- LiDAR and Ortho\\Corvet\\2024.06.24. Corvet flight 1, VUX240, IMU32, Phase one IXM 100, Baie-James, QC\\Rover\\20240624-214610\\cam0\"\n",
    "output_folder = r\"C:\\Users\\olivi\\Desktop\\PhaseOne IXM-100 photos\\Corvet_sample_data_pof\"\n",
    "\n",
    "# New: Path to the CSV file containing file names\n",
    "csv_file_path = r\"C:\\Users\\olivi\\Desktop\\PhaseOne IXM-100 photos\\corvet_sample_photos.csv\"\n",
    "os.makedirs(output_folder, exist_ok=True)\n",
    "\n",
    "# Get a list of files in the input folder\n",
    "files_in_folder = sorted(os.listdir(input_folder))\n",
    "\n",
    "# New: Read the list of file names from the CSV file\n",
    "df_csv = pd.read_csv(csv_file_path, skiprows=6)\n",
    "file_names_from_csv = df_csv['Filename'].tolist()\n",
    "\n",
    "# New: Create a list of files that are present in both the folder and the CSV file\n",
    "matching_files = [file for file in file_names_from_csv if file in files_in_folder]\n",
    "\n",
    "# New: Create a DataFrame with the matching files\n",
    "df_matching_files = pd.DataFrame({\n",
    "    'Index': range(1, len(matching_files) + 1),\n",
    "    'File Name': matching_files\n",
    "})\n",
    "\n",
    "# New: Export the DataFrame of matching files to a .csv file\n",
    "matching_csv_output_path = os.path.join(output_folder, 'matching_file_list.csv')\n",
    "df_matching_files.to_csv(matching_csv_output_path, index=False)\n",
    "print(f\"The DataFrame of matching files has been exported to {matching_csv_output_path}.\")\n",
    "\n",
    "# Copy matching files to the output folder\n",
    "for file_name in matching_files:\n",
    "    shutil.copy(os.path.join(input_folder, file_name), os.path.join(output_folder, file_name))\n",
    "\n",
    "print(f\"Matching files have been copied to {output_folder}.\")"
   ]
  },
  {
   "cell_type": "code",
   "execution_count": null,
   "id": "8076d172-983c-4cca-ac0a-0c0828d164b4",
   "metadata": {},
   "outputs": [],
   "source": []
  },
  {
   "cell_type": "code",
   "execution_count": null,
   "id": "953e6134-3762-47ae-8230-1c8fe1e8dd2e",
   "metadata": {},
   "outputs": [],
   "source": []
  }
 ],
 "metadata": {
  "kernelspec": {
   "display_name": "Python 3 (ipykernel)",
   "language": "python",
   "name": "python3"
  },
  "language_info": {
   "codemirror_mode": {
    "name": "ipython",
    "version": 3
   },
   "file_extension": ".py",
   "mimetype": "text/x-python",
   "name": "python",
   "nbconvert_exporter": "python",
   "pygments_lexer": "ipython3",
   "version": "3.11.7"
  }
 },
 "nbformat": 4,
 "nbformat_minor": 5
}
