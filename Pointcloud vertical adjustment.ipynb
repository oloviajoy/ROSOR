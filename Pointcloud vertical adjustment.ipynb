{
 "cells": [
  {
   "cell_type": "code",
   "execution_count": 9,
   "id": "9fd6255a-7c21-4f92-b3ba-c5bb45862824",
   "metadata": {},
   "outputs": [
    {
     "name": "stdout",
     "output_type": "stream",
     "text": [
      "Merged file created: merged.laz\n",
      "Error during vertical difference calculation: Command '['C:\\\\lastools\\\\bin\\\\lasdiff.exe', '-i', '\"D:\\\\cropped cloud\\\\cropped_cloud.las\"', '\"C:\\\\Users\\\\olivi\\\\Desktop\\\\Pix4Dmatic processing\\\\sept_15_flt_2_missing_data\\\\exports\\\\sept_15_flt_2_missing_data-dense_point_cloud.las\"', '--vertical']' returned non-zero exit status 1.\n",
      "Standard output: \n",
      "Standard error: ERROR: cannot understand argument '--vertical'\n",
      "\n"
     ]
    },
    {
     "ename": "CalledProcessError",
     "evalue": "Command '['C:\\\\lastools\\\\bin\\\\lasdiff.exe', '-i', '\"D:\\\\cropped cloud\\\\cropped_cloud.las\"', '\"C:\\\\Users\\\\olivi\\\\Desktop\\\\Pix4Dmatic processing\\\\sept_15_flt_2_missing_data\\\\exports\\\\sept_15_flt_2_missing_data-dense_point_cloud.las\"', '--vertical']' returned non-zero exit status 1.",
     "output_type": "error",
     "traceback": [
      "\u001b[1;31m---------------------------------------------------------------------------\u001b[0m",
      "\u001b[1;31mCalledProcessError\u001b[0m                        Traceback (most recent call last)",
      "Cell \u001b[1;32mIn[9], line 49\u001b[0m\n\u001b[0;32m     41\u001b[0m diff_command \u001b[38;5;241m=\u001b[39m [\n\u001b[0;32m     42\u001b[0m     lasdiff_path,\n\u001b[0;32m     43\u001b[0m     \u001b[38;5;124m\"\u001b[39m\u001b[38;5;124m-i\u001b[39m\u001b[38;5;124m\"\u001b[39m, \u001b[38;5;124mf\u001b[39m\u001b[38;5;124m\"\u001b[39m\u001b[38;5;130;01m\\\"\u001b[39;00m\u001b[38;5;132;01m{\u001b[39;00mcloud1_file\u001b[38;5;132;01m}\u001b[39;00m\u001b[38;5;130;01m\\\"\u001b[39;00m\u001b[38;5;124m\"\u001b[39m,  \u001b[38;5;66;03m# Add quotes around the paths\u001b[39;00m\n\u001b[0;32m     44\u001b[0m     \u001b[38;5;124mf\u001b[39m\u001b[38;5;124m\"\u001b[39m\u001b[38;5;130;01m\\\"\u001b[39;00m\u001b[38;5;132;01m{\u001b[39;00mcloud2_file\u001b[38;5;132;01m}\u001b[39;00m\u001b[38;5;130;01m\\\"\u001b[39;00m\u001b[38;5;124m\"\u001b[39m,\n\u001b[0;32m     45\u001b[0m     \u001b[38;5;124m\"\u001b[39m\u001b[38;5;124m--vertical\u001b[39m\u001b[38;5;124m\"\u001b[39m\n\u001b[0;32m     46\u001b[0m ]\n\u001b[0;32m     48\u001b[0m \u001b[38;5;28;01mtry\u001b[39;00m:\n\u001b[1;32m---> 49\u001b[0m     result \u001b[38;5;241m=\u001b[39m subprocess\u001b[38;5;241m.\u001b[39mrun(diff_command, capture_output\u001b[38;5;241m=\u001b[39m\u001b[38;5;28;01mTrue\u001b[39;00m, text\u001b[38;5;241m=\u001b[39m\u001b[38;5;28;01mTrue\u001b[39;00m, check\u001b[38;5;241m=\u001b[39m\u001b[38;5;28;01mTrue\u001b[39;00m)\n\u001b[0;32m     50\u001b[0m     output \u001b[38;5;241m=\u001b[39m result\u001b[38;5;241m.\u001b[39mstdout\n\u001b[0;32m     51\u001b[0m     \u001b[38;5;28mprint\u001b[39m(\u001b[38;5;124m\"\u001b[39m\u001b[38;5;124mVertical differences calculated.\u001b[39m\u001b[38;5;124m\"\u001b[39m)\n",
      "File \u001b[1;32m~\\anaconda3\\Lib\\subprocess.py:571\u001b[0m, in \u001b[0;36mrun\u001b[1;34m(input, capture_output, timeout, check, *popenargs, **kwargs)\u001b[0m\n\u001b[0;32m    569\u001b[0m     retcode \u001b[38;5;241m=\u001b[39m process\u001b[38;5;241m.\u001b[39mpoll()\n\u001b[0;32m    570\u001b[0m     \u001b[38;5;28;01mif\u001b[39;00m check \u001b[38;5;129;01mand\u001b[39;00m retcode:\n\u001b[1;32m--> 571\u001b[0m         \u001b[38;5;28;01mraise\u001b[39;00m CalledProcessError(retcode, process\u001b[38;5;241m.\u001b[39margs,\n\u001b[0;32m    572\u001b[0m                                  output\u001b[38;5;241m=\u001b[39mstdout, stderr\u001b[38;5;241m=\u001b[39mstderr)\n\u001b[0;32m    573\u001b[0m \u001b[38;5;28;01mreturn\u001b[39;00m CompletedProcess(process\u001b[38;5;241m.\u001b[39margs, retcode, stdout, stderr)\n",
      "\u001b[1;31mCalledProcessError\u001b[0m: Command '['C:\\\\lastools\\\\bin\\\\lasdiff.exe', '-i', '\"D:\\\\cropped cloud\\\\cropped_cloud.las\"', '\"C:\\\\Users\\\\olivi\\\\Desktop\\\\Pix4Dmatic processing\\\\sept_15_flt_2_missing_data\\\\exports\\\\sept_15_flt_2_missing_data-dense_point_cloud.las\"', '--vertical']' returned non-zero exit status 1."
     ]
    }
   ],
   "source": [
    "#the pix4D pointcloud problem...\n",
    "\n",
    "#where the pix4D cloud overlaps with the SE cloud, there is a variable vertical offset....\n",
    "#I want to write code that will: (1) merge the two clouds (2) determine where they overlap (3) determine what the vertical offset is for areas that overlap\n",
    "#... (4) shift the pix4d cloud by the identified offset, and (5) export the adjusted pix4d cloud so that....\n",
    "    # so that we can then resample both of the clouds in SE and export them as one cloud\n",
    "\n",
    "#first problem: I need to crop the SE point cloud so that it is only the area closest to the pix4dcloud? This way I can work with a smaller file size.\n",
    "\n",
    "import subprocess\n",
    "import numpy as np\n",
    "import os\n",
    "\n",
    "# Define file paths\n",
    "cloud1_file = r\"D:\\cropped cloud\\cropped_cloud.las\" # Path to the first .laz file (reference)\n",
    "cloud2_file = r\"C:\\Users\\olivi\\Desktop\\Pix4Dmatic processing\\sept_15_flt_2_missing_data\\exports\\sept_15_flt_2_missing_data-dense_point_cloud.las\" # Path to the second .laz file (to be adjusted)\n",
    "merged_file = \"merged.laz\"  # Temporary merged file\n",
    "output_file = \"adjusted_sept_15_flt_2_missing_data_chunk_E.laz\"  # Output adjusted .laz file\n",
    "\n",
    "# Ensure LAStools executable path is set (update if necessary)\n",
    "lasmerge_path = r\"C:\\lastools\\bin\\lasmerge.exe\"  # Update to the location of lasmerge.exe\n",
    "lasdiff_path = r\"C:\\lastools\\bin\\lasdiff.exe\"  # Update to the location of lasdiff.exe\n",
    "lasheight_path = r\"C:\\lastools\\bin\\lasheight.exe\"  # Update to the location of lasheight.exe\n",
    "las2las_path = r\"C:\\lastools\\bin\\las2las.exe\"  # Update to the location of las2las.exe\n",
    "\n",
    "# Step 1: Merge the two point clouds to identify overlapping areas\n",
    "merge_command = [\n",
    "    lasmerge_path,\n",
    "    \"-i\", cloud1_file, cloud2_file,\n",
    "    \"-o\", merged_file\n",
    "]\n",
    "\n",
    "try:\n",
    "    subprocess.run(merge_command, check=True)\n",
    "    print(f\"Merged file created: {merged_file}\")\n",
    "except subprocess.CalledProcessError as e:\n",
    "    print(f\"Error during merging: {e}\")\n",
    "    raise\n",
    "\n",
    "# Step 2: Identify vertical differences in the overlapping areas\n",
    "diff_command = [\n",
    "    lasdiff_path,\n",
    "    \"-i\", f\"\\\"{cloud1_file}\\\"\",  # Add quotes around the paths\n",
    "    f\"\\\"{cloud2_file}\\\"\",\n",
    "    \"--vertical\"\n",
    "]\n",
    "\n",
    "try:\n",
    "    result = subprocess.run(diff_command, capture_output=True, text=True, check=True)\n",
    "    output = result.stdout\n",
    "    print(\"Vertical differences calculated.\")\n",
    "    \n",
    "    # Parse the vertical offset from the output (example assumes average is reported)\n",
    "    lines = output.splitlines()\n",
    "    offset_line = [line for line in lines if \"average z difference\" in line]\n",
    "    if offset_line:\n",
    "        vertical_offset = float(offset_line[0].split()[-1])\n",
    "        print(f\"Vertical offset identified: {vertical_offset} meters\")\n",
    "    else:\n",
    "        raise ValueError(\"Could not parse vertical offset from lasdiff output.\")\n",
    "except subprocess.CalledProcessError as e:\n",
    "    print(f\"Error during vertical difference calculation: {e}\")\n",
    "    print(f\"Standard output: {e.stdout}\")  # Print stdout\n",
    "    print(f\"Standard error: {e.stderr}\")  # Print stderr\n",
    "    raise\n",
    "\n",
    "\n",
    "# Step 3: Adjust the second point cloud by the vertical offset\n",
    "adjust_command = [\n",
    "    las2las_path,\n",
    "    \"-i\", cloud2_file,\n",
    "    \"-o\", output_file,\n",
    "    \"--translate_z\", str(vertical_offset)\n",
    "]\n",
    "\n",
    "try:\n",
    "    subprocess.run(adjust_command, check=True)\n",
    "    print(f\"Adjusted point cloud saved as: {output_file}\")\n",
    "except subprocess.CalledProcessError as e:\n",
    "    print(f\"Error during vertical adjustment: {e}\")\n",
    "    raise\n"
   ]
  },
  {
   "cell_type": "code",
   "execution_count": 15,
   "id": "7962fb21-2f0e-486f-aecb-77f7f6ff5afe",
   "metadata": {},
   "outputs": [
    {
     "name": "stdout",
     "output_type": "stream",
     "text": [
      "Collecting laspy\n",
      "  Downloading laspy-2.5.4-py3-none-any.whl.metadata (3.5 kB)\n",
      "Requirement already satisfied: numpy in c:\\users\\olivi\\anaconda3\\lib\\site-packages (from laspy) (1.26.4)\n",
      "Downloading laspy-2.5.4-py3-none-any.whl (84 kB)\n",
      "   ---------------------------------------- 0.0/84.3 kB ? eta -:--:--\n",
      "   ---- ----------------------------------- 10.2/84.3 kB ? eta -:--:--\n",
      "   ----------------------------- ---------- 61.4/84.3 kB 825.8 kB/s eta 0:00:01\n",
      "   ---------------------------------------- 84.3/84.3 kB 948.9 kB/s eta 0:00:00\n",
      "Installing collected packages: laspy\n",
      "Successfully installed laspy-2.5.4\n"
     ]
    },
    {
     "ename": "ValueError",
     "evalue": "operands could not be broadcast together with shapes (534855795,) (1567796427,) ",
     "output_type": "error",
     "traceback": [
      "\u001b[1;31m---------------------------------------------------------------------------\u001b[0m",
      "\u001b[1;31mValueError\u001b[0m                                Traceback (most recent call last)",
      "Cell \u001b[1;32mIn[15], line 12\u001b[0m\n\u001b[0;32m      9\u001b[0m cloud2 \u001b[38;5;241m=\u001b[39m laspy\u001b[38;5;241m.\u001b[39mread(cloud2_file)\n\u001b[0;32m     11\u001b[0m \u001b[38;5;66;03m# Compute the vertical offset by comparing the z-coordinates\u001b[39;00m\n\u001b[1;32m---> 12\u001b[0m z_diff \u001b[38;5;241m=\u001b[39m cloud1\u001b[38;5;241m.\u001b[39mz \u001b[38;5;241m-\u001b[39m cloud2\u001b[38;5;241m.\u001b[39mz\n\u001b[0;32m     13\u001b[0m mean_offset \u001b[38;5;241m=\u001b[39m np\u001b[38;5;241m.\u001b[39mmean(z_diff)\n\u001b[0;32m     14\u001b[0m \u001b[38;5;28mprint\u001b[39m(\u001b[38;5;124mf\u001b[39m\u001b[38;5;124m\"\u001b[39m\u001b[38;5;124mMean vertical offset: \u001b[39m\u001b[38;5;132;01m{\u001b[39;00mmean_offset\u001b[38;5;132;01m}\u001b[39;00m\u001b[38;5;124m meters\u001b[39m\u001b[38;5;124m\"\u001b[39m)\n",
      "File \u001b[1;32m~\\anaconda3\\Lib\\site-packages\\laspy\\point\\dims.py:616\u001b[0m, in \u001b[0;36mArrayView.__sub__\u001b[1;34m(self, other)\u001b[0m\n\u001b[0;32m    615\u001b[0m \u001b[38;5;28;01mdef\u001b[39;00m \u001b[38;5;21m__sub__\u001b[39m(\u001b[38;5;28mself\u001b[39m, other):\n\u001b[1;32m--> 616\u001b[0m     \u001b[38;5;28;01mreturn\u001b[39;00m np\u001b[38;5;241m.\u001b[39marray(\u001b[38;5;28mself\u001b[39m) \u001b[38;5;241m-\u001b[39m other\n",
      "File \u001b[1;32m~\\anaconda3\\Lib\\site-packages\\laspy\\point\\dims.py:564\u001b[0m, in \u001b[0;36mArrayView.__array_ufunc__\u001b[1;34m(self, ufunc, method, *inputs, **kwargs)\u001b[0m\n\u001b[0;32m    562\u001b[0m \u001b[38;5;28;01mdef\u001b[39;00m \u001b[38;5;21m__array_ufunc__\u001b[39m(\u001b[38;5;28mself\u001b[39m, ufunc, method, \u001b[38;5;241m*\u001b[39minputs, \u001b[38;5;241m*\u001b[39m\u001b[38;5;241m*\u001b[39mkwargs):\n\u001b[0;32m    563\u001b[0m     inpts \u001b[38;5;241m=\u001b[39m _convert_array_views_to_array(\u001b[38;5;28mself\u001b[39m\u001b[38;5;241m.\u001b[39m\u001b[38;5;18m__class__\u001b[39m, inputs)\n\u001b[1;32m--> 564\u001b[0m     \u001b[38;5;28;01mreturn\u001b[39;00m \u001b[38;5;28mgetattr\u001b[39m(ufunc, method)(\u001b[38;5;241m*\u001b[39minpts, \u001b[38;5;241m*\u001b[39m\u001b[38;5;241m*\u001b[39mkwargs)\n",
      "\u001b[1;31mValueError\u001b[0m: operands could not be broadcast together with shapes (534855795,) (1567796427,) "
     ]
    }
   ],
   "source": [
    "!pip install laspy\n",
    "import laspy\n",
    "\n",
    "cloud1_file = r\"D:\\cropped cloud\\cropped_cloud.las\" # Path to the first .laz file (reference)\n",
    "cloud2_file = r\"C:\\Users\\olivi\\Desktop\\Pix4Dmatic processing\\sept_15_flt_2_missing_data\\exports\\sept_15_flt_2_missing_data-dense_point_cloud.las\" # Path to the second .laz file (to be adjusted)\n",
    "\n",
    "# Load the two point clouds\n",
    "cloud1 = laspy.read(cloud1_file)\n",
    "cloud2 = laspy.read(cloud2_file)\n",
    "\n",
    "# Compute the vertical offset by comparing the z-coordinates\n",
    "z_diff = cloud1.z - cloud2.z\n",
    "mean_offset = np.mean(z_diff)\n",
    "print(f\"Mean vertical offset: {mean_offset} meters\")"
   ]
  },
  {
   "cell_type": "code",
   "execution_count": null,
   "id": "4cdf670b-9226-4835-abeb-8b1dfc3ac581",
   "metadata": {},
   "outputs": [],
   "source": []
  }
 ],
 "metadata": {
  "kernelspec": {
   "display_name": "Python 3 (ipykernel)",
   "language": "python",
   "name": "python3"
  },
  "language_info": {
   "codemirror_mode": {
    "name": "ipython",
    "version": 3
   },
   "file_extension": ".py",
   "mimetype": "text/x-python",
   "name": "python",
   "nbconvert_exporter": "python",
   "pygments_lexer": "ipython3",
   "version": "3.11.7"
  }
 },
 "nbformat": 4,
 "nbformat_minor": 5
}
