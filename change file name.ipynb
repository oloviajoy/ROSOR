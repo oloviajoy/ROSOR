{
 "cells": [
  {
   "cell_type": "code",
   "execution_count": 4,
   "id": "97d6c956-9175-467e-9d59-191b3deba5d8",
   "metadata": {},
   "outputs": [
    {
     "name": "stdout",
     "output_type": "stream",
     "text": [
      "Copied and renamed 140 .jpeg files and 140 .jpeg.aux.xml files to C:\\Users\\olivi\\Desktop\\Orthophoto processing\\fixing names\n"
     ]
    }
   ],
   "source": [
    "import os\n",
    "import shutil\n",
    "import glob\n",
    "\n",
    "# Define the input and output folders\n",
    "input_folder = r\"D:\\Deliverables\\Aurora ground pointcloud whole area\\Tiles\"\n",
    "output_folder = r\"C:\\Users\\olivi\\Desktop\\Orthophoto processing\\fixing names\"\n",
    "\n",
    "# Create the output folder if it doesn't exist\n",
    "if not os.path.exists(output_folder):\n",
    "    os.makedirs(output_folder)\n",
    "\n",
    "# Step 1: Identify .jpeg and .jpeg.aux.xml files starting with \"A8\"\n",
    "jpeg_files = glob.glob(os.path.join(input_folder, '*.jpeg'))\n",
    "jpeg_aux_files = glob.glob(os.path.join(input_folder, '*.jpeg.aux.xml'))\n",
    "\n",
    "a8_jpeg_files = [f for f in jpeg_files if os.path.basename(f).startswith('A8')]\n",
    "a8_aux_files = [f for f in jpeg_aux_files if os.path.basename(f).startswith('A8')]\n",
    "\n",
    "# Step 2: Create copies and rename files sequentially\n",
    "\n",
    "# Process .jpeg files\n",
    "for i, file_path in enumerate(a8_jpeg_files):\n",
    "    if i == 0:\n",
    "        new_file_name = os.path.basename(file_path)  # Keep original \"A8\"\n",
    "    else:\n",
    "        new_file_name = f'A{i + 8}.jpeg'  # Start numbering from \"A9\"\n",
    "\n",
    "    # Define the full path for the new file in the output folder\n",
    "    new_file_path = os.path.join(output_folder, new_file_name)\n",
    "\n",
    "    # Copy the file to the output folder with the new name\n",
    "    shutil.copy(file_path, new_file_path)\n",
    "\n",
    "# Process .jpeg.aux.xml files\n",
    "for i, file_path in enumerate(a8_aux_files):\n",
    "    if i == 0:\n",
    "        new_file_name = os.path.basename(file_path)  # Keep original \"A8\"\n",
    "    else:\n",
    "        new_file_name = f'A{i + 8}.jpeg.aux.xml'  # Start numbering from \"A9\"\n",
    "\n",
    "    # Define the full path for the new file in the output folder\n",
    "    new_file_path = os.path.join(output_folder, new_file_name)\n",
    "\n",
    "    # Copy the file to the output folder with the new name\n",
    "    shutil.copy(file_path, new_file_path)\n",
    "\n",
    "print(f\"Copied and renamed {len(a8_jpeg_files)} .jpeg files and {len(a8_aux_files)} .jpeg.aux.xml files to {output_folder}\")\n"
   ]
  },
  {
   "cell_type": "code",
   "execution_count": 4,
   "id": "43db45a6-75ce-46d6-b128-2313cd31259a",
   "metadata": {},
   "outputs": [
    {
     "name": "stdout",
     "output_type": "stream",
     "text": [
      "Copied and renamed 140 .jpeg files and 140 .jpeg.aux.xml files to C:\\Users\\olivi\\Desktop\\Orthophoto processing\\fixing names\n"
     ]
    }
   ],
   "source": [
    "import os\n",
    "import shutil\n",
    "import glob\n",
    "\n",
    "# Define the input and output folders\n",
    "input_folder = r\"C:\\Users\\olivi\\Desktop\\Orthophoto processing\\la grande 10cm jpegs\"\n",
    "output_folder = r\"C:\\Users\\olivi\\Desktop\\Orthophoto processing\\fixing names\"\n",
    "\n",
    "# Create the output folder if it doesn't exist\n",
    "if not os.path.exists(output_folder):\n",
    "    os.makedirs(output_folder)\n",
    "\n",
    "# Step 1: Identify .jpeg and .jpeg.aux.xml files starting with \"A8\"\n",
    "jpeg_files = glob.glob(os.path.join(input_folder, '*.jpeg'))\n",
    "jpeg_aux_files = glob.glob(os.path.join(input_folder, '*.jpeg.aux.xml'))\n",
    "\n",
    "a8_jpeg_files = [f for f in jpeg_files if os.path.basename(f).startswith('A8')]\n",
    "a8_aux_files = [f for f in jpeg_aux_files if os.path.basename(f).startswith('A8')]\n",
    "\n",
    "# Step 2: Create copies and rename files sequentially\n",
    "\n",
    "# Process .jpeg files\n",
    "for i, file_path in enumerate(a8_jpeg_files):\n",
    "    if i == 0:\n",
    "        new_file_name = os.path.basename(file_path)  # Keep original \"A8\"\n",
    "    else:\n",
    "        new_file_name = f'A{i + 8}.jpeg'  # Start numbering from \"A9\"\n",
    "\n",
    "    # Define the full path for the new file in the output folder\n",
    "    new_file_path = os.path.join(output_folder, new_file_name)\n",
    "\n",
    "    # Copy the file to the output folder with the new name\n",
    "    shutil.copy(file_path, new_file_path)\n",
    "\n",
    "# Process .jpeg.aux.xml files\n",
    "for i, file_path in enumerate(a8_aux_files):\n",
    "    if i == 0:\n",
    "        new_file_name = os.path.basename(file_path)  # Keep original \"A8\"\n",
    "    else:\n",
    "        new_file_name = f'A{i + 8}.jpeg.aux.xml'  # Start numbering from \"A9\"\n",
    "\n",
    "    # Define the full path for the new file in the output folder\n",
    "    new_file_path = os.path.join(output_folder, new_file_name)\n",
    "\n",
    "    # Copy the file to the output folder with the new name\n",
    "    shutil.copy(file_path, new_file_path)\n",
    "\n",
    "print(f\"Copied and renamed {len(a8_jpeg_files)} .jpeg files and {len(a8_aux_files)} .jpeg.aux.xml files to {output_folder}\")\n"
   ]
  },
  {
   "cell_type": "code",
   "execution_count": null,
   "id": "88c0a9d6-2eb3-4e13-bfae-b2f19a757980",
   "metadata": {},
   "outputs": [],
   "source": []
  }
 ],
 "metadata": {
  "kernelspec": {
   "display_name": "Python 3 (ipykernel)",
   "language": "python",
   "name": "python3"
  },
  "language_info": {
   "codemirror_mode": {
    "name": "ipython",
    "version": 3
   },
   "file_extension": ".py",
   "mimetype": "text/x-python",
   "name": "python",
   "nbconvert_exporter": "python",
   "pygments_lexer": "ipython3",
   "version": "3.11.7"
  }
 },
 "nbformat": 4,
 "nbformat_minor": 5
}
