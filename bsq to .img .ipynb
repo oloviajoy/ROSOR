{
 "cells": [
  {
   "cell_type": "code",
   "execution_count": null,
   "id": "253cf0eb-bb78-4abe-acb8-d005e35bd868",
   "metadata": {},
   "outputs": [],
   "source": [
    "import os\n",
    "import shutil\n",
    "\n",
    "# Define the input and output folder paths\n",
    "input_folder = \"path/to/input/folder\"  # Replace with the path to your input folder\n",
    "output_folder = \"path/to/output/folder\"  # Replace with the path to your output folder\n",
    "\n",
    "# Ensure the output folder exists\n",
    "os.makedirs(output_folder, exist_ok=True)\n",
    "\n",
    "# Iterate through the files in the input folder\n",
    "for filename in os.listdir(input_folder):\n",
    "    # Check if the file ends with .bsq\n",
    "    if filename.endswith(\".bsq\"):\n",
    "        # Construct the new file name with .img extension\n",
    "        new_filename = os.path.splitext(filename)[0] + \".img\"\n",
    "\n",
    "        # Define full paths for source and destination\n",
    "        src_path = os.path.join(input_folder, filename)\n",
    "        dest_path = os.path.join(output_folder, new_filename)\n",
    "\n",
    "        # Copy the file to the new location with the new name\n",
    "        shutil.copy(src_path, dest_path)\n",
    "        print(f\"Converted {filename} to {new_filename} and saved to {output_folder}\")\n",
    "\n",
    "print(\"All .bsq files have been renamed and exported to the new folder.\")"
   ]
  }
 ],
 "metadata": {
  "kernelspec": {
   "display_name": "Python 3 (ipykernel)",
   "language": "python",
   "name": "python3"
  },
  "language_info": {
   "codemirror_mode": {
    "name": "ipython",
    "version": 3
   },
   "file_extension": ".py",
   "mimetype": "text/x-python",
   "name": "python",
   "nbconvert_exporter": "python",
   "pygments_lexer": "ipython3",
   "version": "3.11.7"
  }
 },
 "nbformat": 4,
 "nbformat_minor": 5
}
